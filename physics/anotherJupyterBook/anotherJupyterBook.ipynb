{
 "cells": [
  {
   "cell_type": "code",
   "execution_count": null,
   "id": "06ea09b9",
   "metadata": {},
   "outputs": [],
   "source": [
    "\n",
    "%matplotlib inline\n",
    "import matplotlib.pyplot as plt\n",
    "import numpy as np\n",
    "\n",
    "x = np.linspace(0, 10, 100)\n",
    "y = np.sin(x)\n",
    "\n",
    "plt.plot(x, y)\n",
    "plt.title('Simple Plot')\n",
    "plt.xlabel('x')\n",
    "plt.ylabel('sin(x)')\n"
   ]
  }
 ],
 "metadata": {},
 "nbformat": 4,
 "nbformat_minor": 5
}
